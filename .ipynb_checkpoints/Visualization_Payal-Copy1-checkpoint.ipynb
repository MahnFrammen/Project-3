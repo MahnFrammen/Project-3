{
 "cells": [
  {
   "cell_type": "code",
   "execution_count": 1,
   "id": "15798de5-289c-4fbf-b28e-c4ade7411fdf",
   "metadata": {},
   "outputs": [],
   "source": [
    "import requests\n",
    "import json\n",
    "import pandas as pd\n",
    "from pprint import pprint\n",
    "import matplotlib.pyplot as plt\n",
    "import seaborn as sns #data visualization library"
   ]
  },
  {
   "cell_type": "code",
   "execution_count": 3,
   "id": "8ed1493f-a0d4-4069-8f38-894ae965f25d",
   "metadata": {},
   "outputs": [
    {
     "data": {
      "text/html": [
       "<div>\n",
       "<style scoped>\n",
       "    .dataframe tbody tr th:only-of-type {\n",
       "        vertical-align: middle;\n",
       "    }\n",
       "\n",
       "    .dataframe tbody tr th {\n",
       "        vertical-align: top;\n",
       "    }\n",
       "\n",
       "    .dataframe thead th {\n",
       "        text-align: right;\n",
       "    }\n",
       "</style>\n",
       "<table border=\"1\" class=\"dataframe\">\n",
       "  <thead>\n",
       "    <tr style=\"text-align: right;\">\n",
       "      <th></th>\n",
       "      <th>Updated</th>\n",
       "      <th>Country</th>\n",
       "      <th>Year-Week</th>\n",
       "      <th>Source</th>\n",
       "      <th>New Cases</th>\n",
       "      <th>Number Sequenced</th>\n",
       "      <th>Percent Sequenced</th>\n",
       "      <th>validDenominator</th>\n",
       "      <th>Variant</th>\n",
       "      <th>Detections of Variant</th>\n",
       "      <th>Number Sequenced of Known Variant</th>\n",
       "      <th>Percent Variant</th>\n",
       "    </tr>\n",
       "  </thead>\n",
       "  <tbody>\n",
       "    <tr>\n",
       "      <th>0</th>\n",
       "      <td>1712154414221</td>\n",
       "      <td>Ireland</td>\n",
       "      <td>2020-01</td>\n",
       "      <td>GISAID</td>\n",
       "      <td>0</td>\n",
       "      <td>0</td>\n",
       "      <td>0</td>\n",
       "      <td>True</td>\n",
       "      <td>Other</td>\n",
       "      <td>0</td>\n",
       "      <td>0</td>\n",
       "      <td>0.0</td>\n",
       "    </tr>\n",
       "    <tr>\n",
       "      <th>1</th>\n",
       "      <td>1712154414221</td>\n",
       "      <td>Ireland</td>\n",
       "      <td>2020-01</td>\n",
       "      <td>GISAID</td>\n",
       "      <td>0</td>\n",
       "      <td>0</td>\n",
       "      <td>0</td>\n",
       "      <td>True</td>\n",
       "      <td>XBB.1.5-like</td>\n",
       "      <td>0</td>\n",
       "      <td>0</td>\n",
       "      <td>0.0</td>\n",
       "    </tr>\n",
       "    <tr>\n",
       "      <th>2</th>\n",
       "      <td>1712154414221</td>\n",
       "      <td>Ireland</td>\n",
       "      <td>2020-01</td>\n",
       "      <td>GISAID</td>\n",
       "      <td>0</td>\n",
       "      <td>0</td>\n",
       "      <td>0</td>\n",
       "      <td>True</td>\n",
       "      <td>XBB.1.5-like+F456L</td>\n",
       "      <td>0</td>\n",
       "      <td>0</td>\n",
       "      <td>0.0</td>\n",
       "    </tr>\n",
       "    <tr>\n",
       "      <th>3</th>\n",
       "      <td>1712154414221</td>\n",
       "      <td>Ireland</td>\n",
       "      <td>2020-01</td>\n",
       "      <td>GISAID</td>\n",
       "      <td>0</td>\n",
       "      <td>0</td>\n",
       "      <td>0</td>\n",
       "      <td>True</td>\n",
       "      <td>B.1.351</td>\n",
       "      <td>0</td>\n",
       "      <td>0</td>\n",
       "      <td>0.0</td>\n",
       "    </tr>\n",
       "    <tr>\n",
       "      <th>4</th>\n",
       "      <td>1712154414221</td>\n",
       "      <td>Ireland</td>\n",
       "      <td>2020-01</td>\n",
       "      <td>GISAID</td>\n",
       "      <td>0</td>\n",
       "      <td>0</td>\n",
       "      <td>0</td>\n",
       "      <td>True</td>\n",
       "      <td>B.1.617.2</td>\n",
       "      <td>0</td>\n",
       "      <td>0</td>\n",
       "      <td>0.0</td>\n",
       "    </tr>\n",
       "  </tbody>\n",
       "</table>\n",
       "</div>"
      ],
      "text/plain": [
       "         Updated  Country Year-Week  Source  New Cases  Number Sequenced  \\\n",
       "0  1712154414221  Ireland   2020-01  GISAID          0                 0   \n",
       "1  1712154414221  Ireland   2020-01  GISAID          0                 0   \n",
       "2  1712154414221  Ireland   2020-01  GISAID          0                 0   \n",
       "3  1712154414221  Ireland   2020-01  GISAID          0                 0   \n",
       "4  1712154414221  Ireland   2020-01  GISAID          0                 0   \n",
       "\n",
       "   Percent Sequenced  validDenominator             Variant  \\\n",
       "0                  0              True               Other   \n",
       "1                  0              True        XBB.1.5-like   \n",
       "2                  0              True  XBB.1.5-like+F456L   \n",
       "3                  0              True             B.1.351   \n",
       "4                  0              True           B.1.617.2   \n",
       "\n",
       "   Detections of Variant  Number Sequenced of Known Variant  Percent Variant  \n",
       "0                      0                                  0              0.0  \n",
       "1                      0                                  0              0.0  \n",
       "2                      0                                  0              0.0  \n",
       "3                      0                                  0              0.0  \n",
       "4                      0                                  0              0.0  "
      ]
     },
     "execution_count": 3,
     "metadata": {},
     "output_type": "execute_result"
    }
   ],
   "source": [
    "# Load the CSV file created in Part 1 into a Pandas DataFrame\n",
    "merged_data_df = pd.read_csv(\"CSV_Data/all_countries_data.csv\")\n",
    "\n",
    "# Display sample data\n",
    "merged_data_df.head()"
   ]
  },
  {
   "cell_type": "code",
   "execution_count": 6,
   "id": "64bbee28-f15d-4859-96c8-23bd7291efb2",
   "metadata": {},
   "outputs": [
    {
     "name": "stdout",
     "output_type": "stream",
     "text": [
      "      Variant  Detections of Variant\n",
      "9   B.1.617.2                1133067\n",
      "13       BA.2                 928160\n",
      "20       BA.5                 704999\n"
     ]
    }
   ],
   "source": [
    "# Counting different variants across countries\n",
    "overall_variant_counts = merged_data_df.groupby('Variant')['Detections of Variant'].sum().reset_index()\n",
    "\n",
    "# Finding top 3 variants for all the data\n",
    "top_variants = overall_variant_counts.nlargest(3, 'Detections of Variant')\n",
    "print(top_variants)"
   ]
  },
  {
   "cell_type": "code",
   "execution_count": 7,
   "id": "4c73ce2a-4a36-4d55-91d3-245649ce4f5a",
   "metadata": {},
   "outputs": [
    {
     "name": "stdout",
     "output_type": "stream",
     "text": [
      "    Country    Variant  Detections of Variant\n",
      "0    France  B.1.617.2                 368512\n",
      "1    France       BA.2                 257690\n",
      "2    France       BA.5                 176682\n",
      "4   Germany       BA.2                 365027\n",
      "3   Germany  B.1.617.2                 331620\n",
      "5   Germany       BA.5                 318506\n",
      "6   Ireland  B.1.617.2                  58074\n",
      "8   Ireland       BA.5                  31418\n",
      "7   Ireland       BA.2                  30620\n",
      "9     Italy  B.1.617.2                 110163\n",
      "11    Italy       BA.5                  50522\n",
      "10    Italy       BA.2                  44349\n",
      "13   Norway       BA.2                 157563\n",
      "12   Norway  B.1.617.2                 136620\n",
      "14   Norway       BA.5                  54979\n",
      "15   Sweden  B.1.617.2                 128078\n",
      "16   Sweden       BA.2                  72911\n",
      "17   Sweden       BA.5                  72892\n"
     ]
    }
   ],
   "source": [
    "#Finding the data with top variants\n",
    "    filtered_data = merged_data_df[merged_data_df['Variant'].isin(top_variants['Variant'])]\n",
    "\n",
    "#print(filtered_data.head())\n",
    "#Finding count of each variant for countries using Groupby\n",
    "country_variant_counts = filtered_data.groupby(['Country', 'Variant'])['Detections of Variant'].sum().reset_index()\n",
    "\n",
    "#Finding count of top variants for different Countries\n",
    "top_variants_by_country = (\n",
    "    country_variant_counts\n",
    "    .groupby('Country', group_keys=False)\n",
    "    .apply(lambda x: x.nlargest(3, 'Detections of Variant')) \n",
    ")\n",
    "\n",
    "print(top_variants_by_country)"
   ]
  },
  {
   "cell_type": "code",
   "execution_count": 8,
   "id": "810eccfc-d2a7-49b1-9512-d0c25426b0bc",
   "metadata": {},
   "outputs": [
    {
     "data": {
      "text/plain": [
       "<Figure size 1200x800 with 0 Axes>"
      ]
     },
     "metadata": {},
     "output_type": "display_data"
    },
    {
     "data": {
      "image/png": "[encoded data removed]",
      "text/plain": [
       "<Figure size 1200x800 with 1 Axes>"
      ]
     },
     "metadata": {},
     "output_type": "display_data"
    }
   ],
   "source": [
    "#Data to be plotted\n",
    "data = {\n",
    "    'Country': ['France', 'France', 'France', 'Germany', 'Germany', 'Germany', 'Ireland', 'Ireland', 'Ireland', 'Italy', 'Italy', 'Italy', 'Norway', 'Norway', 'Norway', 'Sweden', 'Sweden', 'Sweden'],\n",
    "    'Variant': ['B.1.617.2', 'BA.2', 'BA.5', 'BA.2', 'B.1.617.2', 'BA.5', 'B.1.617.2', 'BA.5', 'BA.2', 'B.1.617.2', 'BA.5', 'BA.2', 'BA.2', 'B.1.617.2', 'BA.5', 'B.1.617.2', 'BA.2', 'BA.5'],\n",
    "    'Detections of Variant': [368512, 257690, 176682, 365027, 331620, 318506, 58074, 31418, 30620, 110163, 50522, 44349, 157563, 136620, 54979, 128078, 72911, 72892]\n",
    "}\n",
    "\n",
    "# Create DataFrame for the data to be plotted\n",
    "df = pd.DataFrame(data)\n",
    "\n",
    "# Pivotting the data\n",
    "pivot_df = df.pivot_table(index='Country', columns='Variant', values='Detections of Variant', fill_value=0)\n",
    "\n",
    "# Set up the plotting style using seaborn\n",
    "sns.set(style=\"whitegrid\")\n",
    "\n",
    "#Setting up styles for horizontal bar chart\n",
    "plt.figure(figsize=(12, 8))\n",
    "pivot_df.plot(kind='barh', stacked=True, figsize=(12, 8))\n",
    "\n",
    "# Add labels and title\n",
    "plt.xlabel('Number of Detections')\n",
    "plt.ylabel('Country')\n",
    "plt.title('Number of Detections by Variant and Country')\n",
    "\n",
    "# Legend for plot\n",
    "plt.legend(title='Variant', loc='upper right', bbox_to_anchor=(1.25, 1))\n",
    "plt.show()\n"
   ]
  },
  {
   "cell_type": "code",
   "execution_count": null,
   "id": "002ddb93-7644-4a52-853f-77b19503f5e9",
   "metadata": {},
   "outputs": [],
   "source": []
  }
 ],
 "metadata": {
  "kernelspec": {
   "display_name": "Python 3 (ipykernel)",
   "language": "python",
   "name": "python3"
  },
  "language_info": {
   "codemirror_mode": {
    "name": "ipython",
    "version": 3
   },
   "file_extension": ".py",
   "mimetype": "text/x-python",
   "name": "python",
   "nbconvert_exporter": "python",
   "pygments_lexer": "ipython3",
   "version": "3.11.5"
  }
 },
 "nbformat": 4,
 "nbformat_minor": 5
}
