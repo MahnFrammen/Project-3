{
 "cells": [
  {
   "cell_type": "code",
   "execution_count": 40,
   "id": "c8b0df2c",
   "metadata": {},
   "outputs": [],
   "source": [
    "# Dependencies and Setup\n",
    "import matplotlib.pyplot as plt\n",
    "import pandas as pd\n",
    "import numpy as np\n",
    "import requests\n",
    "import json\n",
    "import time\n",
    "from pprint import pprint \n",
    "from scipy.stats import linregress"
   ]
  },
  {
   "cell_type": "code",
   "execution_count": 41,
   "id": "f6480cb5",
   "metadata": {},
   "outputs": [],
   "source": [
    "#Retrieve the Data for Each country\n",
    "\n",
    "#ireland = requests.get(\"https://disease.sh/v3/covid-19/variants/countries/Ireland\")\n",
    "#response = json.loads(ireland.text)\n",
    "#pprint(response)\n",
    "\n",
    "#sweden = requests.get(\"https://disease.sh/v3/covid-19/variants/countries/Sweden\")\n",
    "#response = json.loads(sweden.text)\n",
    "#pprint(response)\n",
    "\n",
    "#france = requests.get(\"https://disease.sh/v3/covid-19/variants/countries/France\")\n",
    "#response = json.loads(france.text)\n",
    "#pprint(response)\n",
    "\n",
    "#italy = requests.get(\"https://disease.sh/v3/covid-19/variants/countries/Italy\")\n",
    "#response = json.loads(italy.text)\n",
    "#pprint(response)\n",
    "\n",
    "#norway = requests.get(\"https://disease.sh/v3/covid-19/variants/countries/Norway\")\n",
    "#response = json.loads(norway.text)\n",
    "#pprint(response)\n",
    "\n",
    "\n",
    "#germany_data = requests.get(\"https://disease.sh/v3/covid-19/variants/countries/Germany\").json()\n",
    "#austria_data = requests.get(\"https://disease.sh/v3/covid-19/variants/countries/Austria\").json()\n",
    "#"
   ]
  },
  {
   "cell_type": "code",
   "execution_count": 44,
   "id": "bcd966b2",
   "metadata": {},
   "outputs": [
    {
     "name": "stdout",
     "output_type": "stream",
     "text": [
      "JSON data saved to ireland_data.json\n"
     ]
    }
   ],
   "source": [
    "#Take the API links and turn the JSON data into individual JSON Files \n",
    "\n",
    "#Ireland\n",
    "def get_api_data(ireland):\n",
    "    response = requests.get(ireland)\n",
    "    if response.status_code == 200:\n",
    "        data = response.json()\n",
    "        return data\n",
    "    else:\n",
    "        print(\"Error accessing API. Status code:\", response.status_code)\n",
    "        return None\n",
    "\n",
    "def save_json_to_file(data, file_name):\n",
    "    with open(file_name, 'w') as file:\n",
    "        json.dump(data, file, indent=4)\n",
    "\n",
    "# Example API link\n",
    "ireland = \"https://disease.sh/v3/covid-19/variants/countries/Ireland\"\n",
    "\n",
    "# Define the folder path where you want to save the file\n",
    "folder_path = 'path_to_your_folder/'\n",
    "\n",
    "# Get data from the API\n",
    "ireland_data = get_api_data(ireland)\n",
    "\n",
    "if ireland_data:\n",
    "    # Save the data to a JSON file\n",
    "    save_json_to_file(ireland_data, folder_path, \"ireland_data.json\")\n",
    "    print(\"JSON data saved to ireland_data.json\")"
   ]
  },
  {
   "cell_type": "code",
   "execution_count": null,
   "id": "e7f74669",
   "metadata": {},
   "outputs": [],
   "source": []
  }
 ],
 "metadata": {
  "kernelspec": {
   "display_name": "Python 3 (ipykernel)",
   "language": "python",
   "name": "python3"
  },
  "language_info": {
   "codemirror_mode": {
    "name": "ipython",
    "version": 3
   },
   "file_extension": ".py",
   "mimetype": "text/x-python",
   "name": "python",
   "nbconvert_exporter": "python",
   "pygments_lexer": "ipython3",
   "version": "3.11.8"
  }
 },
 "nbformat": 4,
 "nbformat_minor": 5
}
